{
 "cells": [
  {
   "cell_type": "markdown",
   "id": "b62ac6d1",
   "metadata": {},
   "source": [
    "# Question 1\n",
    "Basic arithmetic"
   ]
  },
  {
   "cell_type": "code",
   "execution_count": 1,
   "id": "060b262d",
   "metadata": {},
   "outputs": [
    {
     "data": {
      "text/plain": [
       "28"
      ]
     },
     "execution_count": 1,
     "metadata": {},
     "output_type": "execute_result"
    }
   ],
   "source": [
    "5*5+3"
   ]
  },
  {
   "cell_type": "code",
   "execution_count": null,
   "id": "31acfc9b",
   "metadata": {},
   "outputs": [],
   "source": []
  }
 ],
 "metadata": {
  "kernelspec": {
   "display_name": "Python 3 (ipykernel)",
   "language": "python",
   "name": "python3"
  },
  "language_info": {
   "codemirror_mode": {
    "name": "ipython",
    "version": 3
   },
   "file_extension": ".py",
   "mimetype": "text/x-python",
   "name": "python",
   "nbconvert_exporter": "python",
   "pygments_lexer": "ipython3",
   "version": "3.11.5"
  }
 },
 "nbformat": 4,
 "nbformat_minor": 5
}
